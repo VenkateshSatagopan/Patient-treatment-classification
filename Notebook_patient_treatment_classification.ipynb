{
  "nbformat": 4,
  "nbformat_minor": 0,
  "metadata": {
    "colab": {
      "name": "Notebook_patient_treatment_classification.ipynb",
      "provenance": []
    },
    "kernelspec": {
      "name": "python3",
      "display_name": "Python 3"
    }
  },
  "cells": [
    {
      "cell_type": "markdown",
      "metadata": {
        "id": "wuG7jIXLHEtg"
      },
      "source": [
        "# Patient treatment Classification\n",
        "\n",
        "# Context\n",
        "\n",
        "In hospitals, medical treatments and surgeries can be categorized into inpatient and outpatient procedures. For patients, it is important to understand the difference between these two types of care, because they impact the length of a patient’s stay in a medical facility and the cost of a procedure. \n",
        "\n",
        "\n",
        "Inpatient Care (Incare Patient) and Outpatient Care (Outcare Patient)\n",
        "\n",
        "The difference between an inpatient and outpatient care is how long a patient must remain in the facility where they have the procedure done.\n",
        "\n",
        "Inpatient care requires overnight hospitalization. Patients must stay at the medical facility where their procedure was done (which is usually a hospital) for at least one night. During this time, they remain under the supervision of a nurse or doctor.\n",
        "\n",
        "Patients receiving outpatient care do not need to spend a night in a hospital. They are free to leave the hospital once the procedure is over. In some exceptional cases, they need to wait while anesthesia wears off or to make sure there are not any complications. As long as there are not any serious complications, patients do not have to spend the night being supervised. [source of information: pbmhealth]\n",
        "\n",
        "\n",
        "# Problem Statement\n",
        "\n",
        "In today’s world of automation, the skills and knowledge of a person could be utilized at the best places possible by automating tasks wherever possible. As a part of the hospital automation system, one can build a system that would predict and estimate whether the patient should be categorized as an incare patient or an outcare patient with the help of several data points about the patients, their conditions and lab tests.\n",
        "\n",
        "# Objective\n",
        "\n",
        "Build a machine learning model to predict if the patient should be classified as in care or out care based on the patient's laboratory test result.\n",
        "\n",
        "# Evaluation metric - F1 score\n",
        "\n",
        "\n",
        "# Source: https://dphi.tech/practice/challenge/43\n"
      ]
    },
    {
      "cell_type": "code",
      "metadata": {
        "id": "H3czlnNl-0KJ",
        "outputId": "7ea6a50e-eefd-4597-cefc-b7d65ccc79b7",
        "colab": {
          "base_uri": "https://localhost:8080/"
        }
      },
      "source": [
        "!pip install mixed_naive_bayes\n"
      ],
      "execution_count": 37,
      "outputs": [
        {
          "output_type": "stream",
          "text": [
            "Collecting mixed_naive_bayes\n",
            "  Downloading https://files.pythonhosted.org/packages/7a/1f/4af788fa4df56a0aa38cbe949f3c3021ece5200a2d777adb4eddf662468d/mixed_naive_bayes-0.0.1-py3-none-any.whl\n",
            "Requirement already satisfied: scikit-learn>=0.20.2 in /usr/local/lib/python3.6/dist-packages (from mixed_naive_bayes) (0.22.2.post1)\n",
            "Requirement already satisfied: numpy>=1.16.1 in /usr/local/lib/python3.6/dist-packages (from mixed_naive_bayes) (1.18.5)\n",
            "Requirement already satisfied: scipy>=0.17.0 in /usr/local/lib/python3.6/dist-packages (from scikit-learn>=0.20.2->mixed_naive_bayes) (1.4.1)\n",
            "Requirement already satisfied: joblib>=0.11 in /usr/local/lib/python3.6/dist-packages (from scikit-learn>=0.20.2->mixed_naive_bayes) (0.17.0)\n",
            "Installing collected packages: mixed-naive-bayes\n",
            "Successfully installed mixed-naive-bayes-0.0.1\n"
          ],
          "name": "stdout"
        }
      ]
    },
    {
      "cell_type": "code",
      "metadata": {
        "id": "YFxE1QKslGa3"
      },
      "source": [
        "import pandas as pd\n",
        "import numpy as np\n",
        "import seaborn as sns\n",
        "import matplotlib.pyplot as plt\n",
        "from sklearn.model_selection import train_test_split\n",
        "from sklearn.metrics import accuracy_score,f1_score\n",
        "from sklearn.pipeline import Pipeline\n",
        "from sklearn.svm import SVC\n",
        "from sklearn.preprocessing import StandardScaler\n",
        "from sklearn.linear_model import LogisticRegression\n",
        "import xgboost\n",
        "import lightgbm as lgb\n",
        "from sklearn.ensemble import RandomForestClassifier, AdaBoostClassifier\n",
        "from mixed_naive_bayes import MixedNB\n"
      ],
      "execution_count": 40,
      "outputs": []
    },
    {
      "cell_type": "code",
      "metadata": {
        "id": "Y30jdFwYlLWb"
      },
      "source": [
        "patient_data  = pd.read_csv(\"https://raw.githubusercontent.com/dphi-official/Datasets/master/patient_treat_class/training_set_label.csv\" )\n",
        "test_data = pd.read_csv('https://raw.githubusercontent.com/dphi-official/Datasets/master/patient_treat_class/testing_set_label.csv')"
      ],
      "execution_count": 4,
      "outputs": []
    },
    {
      "cell_type": "code",
      "metadata": {
        "id": "yHchJqkglMnJ"
      },
      "source": [
        "patient_data['SEX']=patient_data['SEX'].apply(lambda x: 0 if x=='F' else 1).astype('int64')\n",
        "test_data['SEX']=test_data['SEX'].apply(lambda x: 0 if x=='F' else 1).astype('int64')"
      ],
      "execution_count": 77,
      "outputs": []
    },
    {
      "cell_type": "markdown",
      "metadata": {
        "id": "gvx4XGlWIcz6"
      },
      "source": [
        "# General dataset information"
      ]
    },
    {
      "cell_type": "code",
      "metadata": {
        "id": "Z3YG7oQRl3dt",
        "outputId": "6cb9e2d3-f2ee-4681-b093-e20eb46d7d96",
        "colab": {
          "base_uri": "https://localhost:8080/"
        }
      },
      "source": [
        "patient_data.info()"
      ],
      "execution_count": 6,
      "outputs": [
        {
          "output_type": "stream",
          "text": [
            "<class 'pandas.core.frame.DataFrame'>\n",
            "RangeIndex: 3309 entries, 0 to 3308\n",
            "Data columns (total 11 columns):\n",
            " #   Column        Non-Null Count  Dtype  \n",
            "---  ------        --------------  -----  \n",
            " 0   HAEMATOCRIT   3309 non-null   float64\n",
            " 1   HAEMOGLOBINS  3309 non-null   float64\n",
            " 2   ERYTHROCYTE   3309 non-null   float64\n",
            " 3   LEUCOCYTE     3309 non-null   float64\n",
            " 4   THROMBOCYTE   3309 non-null   int64  \n",
            " 5   MCH           3309 non-null   float64\n",
            " 6   MCHC          3309 non-null   float64\n",
            " 7   MCV           3309 non-null   float64\n",
            " 8   AGE           3309 non-null   int64  \n",
            " 9   SEX           3309 non-null   int64  \n",
            " 10  SOURCE        3309 non-null   int64  \n",
            "dtypes: float64(7), int64(4)\n",
            "memory usage: 284.5 KB\n"
          ],
          "name": "stdout"
        }
      ]
    },
    {
      "cell_type": "code",
      "metadata": {
        "id": "4HJL5eGTmEE_",
        "outputId": "9f54d832-a2e3-4344-9091-1e22da0ab160",
        "colab": {
          "base_uri": "https://localhost:8080/",
          "height": 317
        }
      },
      "source": [
        "patient_data.describe()"
      ],
      "execution_count": 7,
      "outputs": [
        {
          "output_type": "execute_result",
          "data": {
            "text/html": [
              "<div>\n",
              "<style scoped>\n",
              "    .dataframe tbody tr th:only-of-type {\n",
              "        vertical-align: middle;\n",
              "    }\n",
              "\n",
              "    .dataframe tbody tr th {\n",
              "        vertical-align: top;\n",
              "    }\n",
              "\n",
              "    .dataframe thead th {\n",
              "        text-align: right;\n",
              "    }\n",
              "</style>\n",
              "<table border=\"1\" class=\"dataframe\">\n",
              "  <thead>\n",
              "    <tr style=\"text-align: right;\">\n",
              "      <th></th>\n",
              "      <th>HAEMATOCRIT</th>\n",
              "      <th>HAEMOGLOBINS</th>\n",
              "      <th>ERYTHROCYTE</th>\n",
              "      <th>LEUCOCYTE</th>\n",
              "      <th>THROMBOCYTE</th>\n",
              "      <th>MCH</th>\n",
              "      <th>MCHC</th>\n",
              "      <th>MCV</th>\n",
              "      <th>AGE</th>\n",
              "      <th>SEX</th>\n",
              "      <th>SOURCE</th>\n",
              "    </tr>\n",
              "  </thead>\n",
              "  <tbody>\n",
              "    <tr>\n",
              "      <th>count</th>\n",
              "      <td>3309.000000</td>\n",
              "      <td>3309.000000</td>\n",
              "      <td>3309.000000</td>\n",
              "      <td>3309.000000</td>\n",
              "      <td>3309.000000</td>\n",
              "      <td>3309.000000</td>\n",
              "      <td>3309.000000</td>\n",
              "      <td>3309.000000</td>\n",
              "      <td>3309.000000</td>\n",
              "      <td>3309.000000</td>\n",
              "      <td>3309.000000</td>\n",
              "    </tr>\n",
              "    <tr>\n",
              "      <th>mean</th>\n",
              "      <td>38.226111</td>\n",
              "      <td>12.749350</td>\n",
              "      <td>4.544802</td>\n",
              "      <td>8.715533</td>\n",
              "      <td>258.893019</td>\n",
              "      <td>28.230039</td>\n",
              "      <td>33.336476</td>\n",
              "      <td>84.611333</td>\n",
              "      <td>46.644303</td>\n",
              "      <td>0.526745</td>\n",
              "      <td>0.398005</td>\n",
              "    </tr>\n",
              "    <tr>\n",
              "      <th>std</th>\n",
              "      <td>5.971943</td>\n",
              "      <td>2.084325</td>\n",
              "      <td>0.784510</td>\n",
              "      <td>4.991299</td>\n",
              "      <td>112.676139</td>\n",
              "      <td>2.696520</td>\n",
              "      <td>1.247055</td>\n",
              "      <td>6.916079</td>\n",
              "      <td>21.874106</td>\n",
              "      <td>0.499360</td>\n",
              "      <td>0.489561</td>\n",
              "    </tr>\n",
              "    <tr>\n",
              "      <th>min</th>\n",
              "      <td>13.700000</td>\n",
              "      <td>3.800000</td>\n",
              "      <td>1.480000</td>\n",
              "      <td>1.100000</td>\n",
              "      <td>10.000000</td>\n",
              "      <td>14.900000</td>\n",
              "      <td>26.000000</td>\n",
              "      <td>54.000000</td>\n",
              "      <td>1.000000</td>\n",
              "      <td>0.000000</td>\n",
              "      <td>0.000000</td>\n",
              "    </tr>\n",
              "    <tr>\n",
              "      <th>25%</th>\n",
              "      <td>34.300000</td>\n",
              "      <td>11.400000</td>\n",
              "      <td>4.040000</td>\n",
              "      <td>5.700000</td>\n",
              "      <td>191.000000</td>\n",
              "      <td>27.200000</td>\n",
              "      <td>32.700000</td>\n",
              "      <td>81.500000</td>\n",
              "      <td>29.000000</td>\n",
              "      <td>0.000000</td>\n",
              "      <td>0.000000</td>\n",
              "    </tr>\n",
              "    <tr>\n",
              "      <th>50%</th>\n",
              "      <td>38.700000</td>\n",
              "      <td>12.900000</td>\n",
              "      <td>4.580000</td>\n",
              "      <td>7.600000</td>\n",
              "      <td>257.000000</td>\n",
              "      <td>28.700000</td>\n",
              "      <td>33.400000</td>\n",
              "      <td>85.300000</td>\n",
              "      <td>48.000000</td>\n",
              "      <td>1.000000</td>\n",
              "      <td>0.000000</td>\n",
              "    </tr>\n",
              "    <tr>\n",
              "      <th>75%</th>\n",
              "      <td>42.500000</td>\n",
              "      <td>14.200000</td>\n",
              "      <td>5.060000</td>\n",
              "      <td>10.300000</td>\n",
              "      <td>322.000000</td>\n",
              "      <td>29.800000</td>\n",
              "      <td>34.100000</td>\n",
              "      <td>88.800000</td>\n",
              "      <td>64.000000</td>\n",
              "      <td>1.000000</td>\n",
              "      <td>1.000000</td>\n",
              "    </tr>\n",
              "    <tr>\n",
              "      <th>max</th>\n",
              "      <td>69.000000</td>\n",
              "      <td>18.900000</td>\n",
              "      <td>7.860000</td>\n",
              "      <td>76.600000</td>\n",
              "      <td>1121.000000</td>\n",
              "      <td>40.800000</td>\n",
              "      <td>38.400000</td>\n",
              "      <td>115.600000</td>\n",
              "      <td>99.000000</td>\n",
              "      <td>1.000000</td>\n",
              "      <td>1.000000</td>\n",
              "    </tr>\n",
              "  </tbody>\n",
              "</table>\n",
              "</div>"
            ],
            "text/plain": [
              "       HAEMATOCRIT  HAEMOGLOBINS  ...          SEX       SOURCE\n",
              "count  3309.000000   3309.000000  ...  3309.000000  3309.000000\n",
              "mean     38.226111     12.749350  ...     0.526745     0.398005\n",
              "std       5.971943      2.084325  ...     0.499360     0.489561\n",
              "min      13.700000      3.800000  ...     0.000000     0.000000\n",
              "25%      34.300000     11.400000  ...     0.000000     0.000000\n",
              "50%      38.700000     12.900000  ...     1.000000     0.000000\n",
              "75%      42.500000     14.200000  ...     1.000000     1.000000\n",
              "max      69.000000     18.900000  ...     1.000000     1.000000\n",
              "\n",
              "[8 rows x 11 columns]"
            ]
          },
          "metadata": {
            "tags": []
          },
          "execution_count": 7
        }
      ]
    },
    {
      "cell_type": "code",
      "metadata": {
        "id": "lVHqz8GrH206",
        "outputId": "eab7053c-08d4-444f-bfa7-da614fb5fa3f",
        "colab": {
          "base_uri": "https://localhost:8080/",
          "height": 204
        }
      },
      "source": [
        "patient_data.head()"
      ],
      "execution_count": 76,
      "outputs": [
        {
          "output_type": "execute_result",
          "data": {
            "text/html": [
              "<div>\n",
              "<style scoped>\n",
              "    .dataframe tbody tr th:only-of-type {\n",
              "        vertical-align: middle;\n",
              "    }\n",
              "\n",
              "    .dataframe tbody tr th {\n",
              "        vertical-align: top;\n",
              "    }\n",
              "\n",
              "    .dataframe thead th {\n",
              "        text-align: right;\n",
              "    }\n",
              "</style>\n",
              "<table border=\"1\" class=\"dataframe\">\n",
              "  <thead>\n",
              "    <tr style=\"text-align: right;\">\n",
              "      <th></th>\n",
              "      <th>HAEMATOCRIT</th>\n",
              "      <th>HAEMOGLOBINS</th>\n",
              "      <th>ERYTHROCYTE</th>\n",
              "      <th>LEUCOCYTE</th>\n",
              "      <th>THROMBOCYTE</th>\n",
              "      <th>MCH</th>\n",
              "      <th>MCHC</th>\n",
              "      <th>MCV</th>\n",
              "      <th>AGE</th>\n",
              "      <th>SEX</th>\n",
              "      <th>SOURCE</th>\n",
              "    </tr>\n",
              "  </thead>\n",
              "  <tbody>\n",
              "    <tr>\n",
              "      <th>0</th>\n",
              "      <td>33.8</td>\n",
              "      <td>11.1</td>\n",
              "      <td>4.18</td>\n",
              "      <td>4.6</td>\n",
              "      <td>150</td>\n",
              "      <td>26.6</td>\n",
              "      <td>32.8</td>\n",
              "      <td>80.9</td>\n",
              "      <td>33</td>\n",
              "      <td>0</td>\n",
              "      <td>1</td>\n",
              "    </tr>\n",
              "    <tr>\n",
              "      <th>1</th>\n",
              "      <td>44.6</td>\n",
              "      <td>14.0</td>\n",
              "      <td>6.86</td>\n",
              "      <td>6.3</td>\n",
              "      <td>232</td>\n",
              "      <td>20.4</td>\n",
              "      <td>31.4</td>\n",
              "      <td>65.0</td>\n",
              "      <td>36</td>\n",
              "      <td>1</td>\n",
              "      <td>0</td>\n",
              "    </tr>\n",
              "    <tr>\n",
              "      <th>2</th>\n",
              "      <td>42.9</td>\n",
              "      <td>14.0</td>\n",
              "      <td>4.57</td>\n",
              "      <td>6.2</td>\n",
              "      <td>336</td>\n",
              "      <td>30.6</td>\n",
              "      <td>32.6</td>\n",
              "      <td>93.9</td>\n",
              "      <td>70</td>\n",
              "      <td>0</td>\n",
              "      <td>0</td>\n",
              "    </tr>\n",
              "    <tr>\n",
              "      <th>3</th>\n",
              "      <td>41.9</td>\n",
              "      <td>14.4</td>\n",
              "      <td>4.67</td>\n",
              "      <td>3.5</td>\n",
              "      <td>276</td>\n",
              "      <td>30.8</td>\n",
              "      <td>34.4</td>\n",
              "      <td>89.7</td>\n",
              "      <td>18</td>\n",
              "      <td>0</td>\n",
              "      <td>0</td>\n",
              "    </tr>\n",
              "    <tr>\n",
              "      <th>4</th>\n",
              "      <td>40.6</td>\n",
              "      <td>13.3</td>\n",
              "      <td>4.85</td>\n",
              "      <td>14.9</td>\n",
              "      <td>711</td>\n",
              "      <td>27.4</td>\n",
              "      <td>32.8</td>\n",
              "      <td>83.7</td>\n",
              "      <td>36</td>\n",
              "      <td>1</td>\n",
              "      <td>0</td>\n",
              "    </tr>\n",
              "  </tbody>\n",
              "</table>\n",
              "</div>"
            ],
            "text/plain": [
              "   HAEMATOCRIT  HAEMOGLOBINS  ERYTHROCYTE  LEUCOCYTE  ...   MCV  AGE  SEX  SOURCE\n",
              "0         33.8          11.1         4.18        4.6  ...  80.9   33    0       1\n",
              "1         44.6          14.0         6.86        6.3  ...  65.0   36    1       0\n",
              "2         42.9          14.0         4.57        6.2  ...  93.9   70    0       0\n",
              "3         41.9          14.4         4.67        3.5  ...  89.7   18    0       0\n",
              "4         40.6          13.3         4.85       14.9  ...  83.7   36    1       0\n",
              "\n",
              "[5 rows x 11 columns]"
            ]
          },
          "metadata": {
            "tags": []
          },
          "execution_count": 76
        }
      ]
    },
    {
      "cell_type": "markdown",
      "metadata": {
        "id": "Xe1FXPcVH57E"
      },
      "source": [
        "# Dataset information\n",
        "\n",
        "\n",
        "Name / Data Type / Value Sample/ Description\n",
        "\n",
        "----------------------------- \n",
        "\n",
        "HAEMATOCRIT /Continuous /35.1 / Patient laboratory test result of haematocrit\n",
        "\n",
        "HAEMOGLOBINS/Continuous/11.8 / Patient laboratory test result of haemoglobins\n",
        "\n",
        "ERYTHROCYTE/Continuous/4.65 /  Patient laboratory test result of erythrocyte\n",
        "\n",
        "LEUCOCYTE /Continuous /6.3 / Patient laboratory test result of leucocyte\n",
        "\n",
        "THROMBOCYTE/Continuous/310/ Patient laboratory test result of thrombocyte\n",
        "\n",
        "MCH/Continuous /25.4/ Patient laboratory test result of MCH\n",
        "\n",
        "MCHC/Continuous/33.6/ Patient laboratory test result of MCHC\n",
        "\n",
        "MCV/Continuous /75.5/ Patient laboratory test result of MCV\n",
        "\n",
        "AGE/Continuous/12/ Patient age\n",
        "\n",
        "SEX/Nominal – Binary/F/ Patient gender\n",
        "\n",
        "SOURCE/Nominal/ {1,0}/The class target 1.= in care patient, 0 = out care patient"
      ]
    },
    {
      "cell_type": "code",
      "metadata": {
        "id": "CJMW545wmpvt",
        "outputId": "55f80f6a-9f92-4c4c-e2b0-5d3293197a3e",
        "colab": {
          "base_uri": "https://localhost:8080/"
        }
      },
      "source": [
        "patient_data.shape"
      ],
      "execution_count": 15,
      "outputs": [
        {
          "output_type": "execute_result",
          "data": {
            "text/plain": [
              "(3309, 11)"
            ]
          },
          "metadata": {
            "tags": []
          },
          "execution_count": 15
        }
      ]
    },
    {
      "cell_type": "markdown",
      "metadata": {
        "id": "q6zhKc3SIpcM"
      },
      "source": [
        "# Histogram of the complete dataset"
      ]
    },
    {
      "cell_type": "code",
      "metadata": {
        "id": "2r9lAyCElTvF",
        "outputId": "a252ab76-2c10-49fe-b963-c19d5e47f621",
        "colab": {
          "base_uri": "https://localhost:8080/",
          "height": 686
        }
      },
      "source": [
        "patient_data.iloc[:,:-1].hist(figsize=(20,10), grid=False, layout=(2, 5), bins = 30)"
      ],
      "execution_count": 16,
      "outputs": [
        {
          "output_type": "execute_result",
          "data": {
            "text/plain": [
              "array([[<matplotlib.axes._subplots.AxesSubplot object at 0x7f2de2301400>,\n",
              "        <matplotlib.axes._subplots.AxesSubplot object at 0x7f2de2253470>,\n",
              "        <matplotlib.axes._subplots.AxesSubplot object at 0x7f2de22066d8>,\n",
              "        <matplotlib.axes._subplots.AxesSubplot object at 0x7f2de2236940>,\n",
              "        <matplotlib.axes._subplots.AxesSubplot object at 0x7f2de21e5ba8>],\n",
              "       [<matplotlib.axes._subplots.AxesSubplot object at 0x7f2de2196e10>,\n",
              "        <matplotlib.axes._subplots.AxesSubplot object at 0x7f2de21530b8>,\n",
              "        <matplotlib.axes._subplots.AxesSubplot object at 0x7f2de21032e8>,\n",
              "        <matplotlib.axes._subplots.AxesSubplot object at 0x7f2de2103358>,\n",
              "        <matplotlib.axes._subplots.AxesSubplot object at 0x7f2de20e27f0>]],\n",
              "      dtype=object)"
            ]
          },
          "metadata": {
            "tags": []
          },
          "execution_count": 16
        },
        {
          "output_type": "display_data",
          "data": {
            "image/png": "[encoded data removed]",
            "text/plain": [
              "<Figure size 1440x720 with 10 Axes>"
            ]
          },
          "metadata": {
            "tags": [],
            "needs_background": "light"
          }
        }
      ]
    },
    {
      "cell_type": "markdown",
      "metadata": {
        "id": "U09RHfpcnC0J"
      },
      "source": [
        "# LEUCOCYTE is bit of right skewed\n",
        "# All features are not normaly distributed, but close to normal distributed\n",
        "# Each features are in different scale\n",
        "# Sex is a categorical column with 2 values (Male and Female)"
      ]
    },
    {
      "cell_type": "code",
      "metadata": {
        "id": "CyxOVZdh8cnp",
        "outputId": "3ef1aa09-ab46-4362-e2f6-14d787477e73",
        "colab": {
          "base_uri": "https://localhost:8080/",
          "height": 298
        }
      },
      "source": [
        "patient_data['SOURCE'].hist()\n",
        "plt.title('Class distribution')"
      ],
      "execution_count": 33,
      "outputs": [
        {
          "output_type": "execute_result",
          "data": {
            "text/plain": [
              "Text(0.5, 1.0, 'Class distribution')"
            ]
          },
          "metadata": {
            "tags": []
          },
          "execution_count": 33
        },
        {
          "output_type": "display_data",
          "data": {
            "image/png": "[encoded data removed]",
            "text/plain": [
              "<Figure size 432x288 with 1 Axes>"
            ]
          },
          "metadata": {
            "tags": [],
            "needs_background": "light"
          }
        }
      ]
    },
    {
      "cell_type": "markdown",
      "metadata": {
        "id": "DpicHIEr9mig"
      },
      "source": [
        "There is a slight class imbalnce between Class-0 and Class-1 which needs to be addressed while model building"
      ]
    },
    {
      "cell_type": "markdown",
      "metadata": {
        "id": "J0YAo5lFI5hP"
      },
      "source": [
        "# Outlier detection"
      ]
    },
    {
      "cell_type": "code",
      "metadata": {
        "id": "iaj5Tph4m2E7",
        "outputId": "eefdf6cf-05a5-4365-efe7-e3117956183b",
        "colab": {
          "base_uri": "https://localhost:8080/",
          "height": 660
        }
      },
      "source": [
        "patient_data.iloc[:,:-2].plot(kind='box',figsize=(20,10), subplots=True,grid=False, layout=(2, 5))"
      ],
      "execution_count": 22,
      "outputs": [
        {
          "output_type": "execute_result",
          "data": {
            "text/plain": [
              "HAEMATOCRIT        AxesSubplot(0.125,0.536818;0.133621x0.343182)\n",
              "HAEMOGLOBINS    AxesSubplot(0.285345,0.536818;0.133621x0.343182)\n",
              "ERYTHROCYTE      AxesSubplot(0.44569,0.536818;0.133621x0.343182)\n",
              "LEUCOCYTE       AxesSubplot(0.606034,0.536818;0.133621x0.343182)\n",
              "THROMBOCYTE     AxesSubplot(0.766379,0.536818;0.133621x0.343182)\n",
              "MCH                   AxesSubplot(0.125,0.125;0.133621x0.343182)\n",
              "MCHC               AxesSubplot(0.285345,0.125;0.133621x0.343182)\n",
              "MCV                 AxesSubplot(0.44569,0.125;0.133621x0.343182)\n",
              "AGE                AxesSubplot(0.606034,0.125;0.133621x0.343182)\n",
              "dtype: object"
            ]
          },
          "metadata": {
            "tags": []
          },
          "execution_count": 22
        },
        {
          "output_type": "display_data",
          "data": {
            "image/png": "[encoded data removed]",
            "text/plain": [
              "<Figure size 1440x720 with 10 Axes>"
            ]
          },
          "metadata": {
            "tags": [],
            "needs_background": "light"
          }
        }
      ]
    },
    {
      "cell_type": "markdown",
      "metadata": {
        "id": "eOpK3xpioVk3"
      },
      "source": [
        "Except Age feature, all are having outliers, while selecting machine learning algorithm this should be taken into consideration"
      ]
    },
    {
      "cell_type": "markdown",
      "metadata": {
        "id": "NSS-dsryI9UC"
      },
      "source": [
        "# Correlation of the dataset"
      ]
    },
    {
      "cell_type": "code",
      "metadata": {
        "id": "5mCSIpN3nOUf",
        "outputId": "f22b2a6d-b130-434b-863c-80d4cd7af4de",
        "colab": {
          "base_uri": "https://localhost:8080/",
          "height": 389
        }
      },
      "source": [
        "plt.figure(figsize=(20,7))\n",
        "sns.heatmap(patient_data.corr(), annot=True)"
      ],
      "execution_count": 23,
      "outputs": [
        {
          "output_type": "execute_result",
          "data": {
            "text/plain": [
              "<matplotlib.axes._subplots.AxesSubplot at 0x7f2dea235f98>"
            ]
          },
          "metadata": {
            "tags": []
          },
          "execution_count": 23
        },
        {
          "output_type": "display_data",
          "data": {
            "image/png": "[encoded data removed]",
            "text/plain": [
              "<Figure size 1440x504 with 2 Axes>"
            ]
          },
          "metadata": {
            "tags": [],
            "needs_background": "light"
          }
        }
      ]
    },
    {
      "cell_type": "code",
      "metadata": {
        "id": "g2Y_OVEpowrM",
        "outputId": "bb1786e2-2fe4-4099-ad08-a848d256c920",
        "colab": {
          "base_uri": "https://localhost:8080/"
        }
      },
      "source": [
        "patient_data.columns"
      ],
      "execution_count": 24,
      "outputs": [
        {
          "output_type": "execute_result",
          "data": {
            "text/plain": [
              "Index(['HAEMATOCRIT', 'HAEMOGLOBINS', 'ERYTHROCYTE', 'LEUCOCYTE',\n",
              "       'THROMBOCYTE', 'MCH', 'MCHC', 'MCV', 'AGE', 'SEX', 'SOURCE'],\n",
              "      dtype='object')"
            ]
          },
          "metadata": {
            "tags": []
          },
          "execution_count": 24
        }
      ]
    },
    {
      "cell_type": "markdown",
      "metadata": {
        "id": "JoDZkeqqoqOw"
      },
      "source": [
        "HAEMATOCRIT, HAEMOGLOBINS, ERYTHROCYTE are highly correlated, we can use either one or two of the features for model building\n",
        "\n",
        "MCH, MCV are highly correlated we can use either one of the features for model building"
      ]
    },
    {
      "cell_type": "code",
      "metadata": {
        "id": "CjqoMCGEonas"
      },
      "source": [
        "X=patient_data.drop(['SOURCE','HAEMATOCRIT','MCH'],axis=1)\n",
        "y=patient_data['SOURCE']\n",
        "X_test=test_data.drop(['HAEMATOCRIT','MCH'],axis=1)"
      ],
      "execution_count": 27,
      "outputs": []
    },
    {
      "cell_type": "code",
      "metadata": {
        "id": "-F_i15NO8AS9"
      },
      "source": [
        "X_train,X_valid,y_train,y_valid=train_test_split(X_train,y_train,stratify=y_train,test_size=0.2,random_state=100)"
      ],
      "execution_count": 36,
      "outputs": []
    },
    {
      "cell_type": "code",
      "metadata": {
        "id": "S5TZxZM-GXJC"
      },
      "source": [
        "def train_test(X_train,y_train,X_valid,y_valid=None,class_weight=None,train=True):\n",
        "  #class_weight={0:1,1:1.05}\n",
        "  # Lgb model\n",
        "  model_lgb=lgb.LGBMClassifier(random_state=42,class_weight=class_weight)\n",
        "  # SVM model\n",
        "  svm_model=SVC(class_weight=class_weight,random_state=50)\n",
        "  sc=StandardScaler()\n",
        "  #Logistic regression model\n",
        "  log_model=LogisticRegression(class_weight=class_weight,random_state=50)\n",
        "  sc_1=StandardScaler()\n",
        "\n",
        "  # Naive bayes\n",
        "  model_mnb=MixedNB(categorical_features=[7])\n",
        "\n",
        "  # Random forest classifier\n",
        "  model_rf=RandomForestClassifier(class_weight=class_weight,random_state=70,n_estimators=1000)\n",
        "\n",
        "  # Adaboost\n",
        "  model_ada=AdaBoostClassifier(base_estimator=lgb.LGBMClassifier(class_weight=class_weight))\n",
        "\n",
        "  #xgboost\n",
        "  model_xgb=xgboost.XGBClassifier(class_weight=class_weight,random_state=40)\n",
        "\n",
        "  #SVC\n",
        "  pipe=Pipeline([('standardscaler',sc),('svc',svm_model)])\n",
        "  \n",
        "  # Log classifier\n",
        "  pipe_1=Pipeline([('standardscaler',sc_1),('log',log_model)])\n",
        " \n",
        "  try:\n",
        "   pipe.fit(X_train.values,y_train.values)\n",
        "   pipe_1.fit(X_train.values,y_train.values)\n",
        "   model_mnb.fit(X_train.values,y_train.values)\n",
        "  except:\n",
        "   pipe.fit(X_train,y_train)\n",
        "   pipe_1.fit(X_train,y_train)\n",
        "   model_mnb.fit(X_train,y_train)\n",
        "  model_rf.fit(X_train,y_train)\n",
        "\n",
        "  model_ada.fit(X_train,y_train)\n",
        "\n",
        "  model_xgb.fit(X_train,y_train)\n",
        "\n",
        "  model_lgb.fit(X_train,y_train)\n",
        "\n",
        "  test_value_lgb=model_lgb.predict(X_valid)\n",
        "  test_value_ada=model_ada.predict(X_valid)\n",
        "  test_value_rf=model_rf.predict(X_valid)\n",
        "  test_value_xgb=model_xgb.predict(X_valid)\n",
        "  test_value_mnb=model_mnb.predict(X_valid)\n",
        "  test_value_svm=pipe.predict(X_valid)\n",
        "  test_value_log=pipe_1.predict(X_valid)\n",
        "  df_result=pd.DataFrame()\n",
        "  if train:\n",
        "    \n",
        "    df_result['accuracy']=np.zeros((7,),dtype=float)\n",
        "    df_result['f1_score']=0.0\n",
        "    df_result.iloc[0,0]=accuracy_score(y_valid,test_value_rf)\n",
        "    df_result.iloc[1,0]=accuracy_score(y_valid,test_value_svm)\n",
        "    df_result.iloc[2,0]=accuracy_score(y_valid,test_value_lgb)\n",
        "    df_result.iloc[3,0]=accuracy_score(y_valid,test_value_ada)\n",
        "    df_result.iloc[4,0]=accuracy_score(y_valid,test_value_xgb)\n",
        "    df_result.iloc[5,0]=accuracy_score(y_valid,test_value_log)\n",
        "    df_result.iloc[6,0]=accuracy_score(y_valid,test_value_mnb)\n",
        "\n",
        "    df_result.iloc[0,1]=f1_score(y_valid,test_value_rf)\n",
        "    df_result.iloc[1,1]=f1_score(y_valid,test_value_svm)\n",
        "    df_result.iloc[2,1]=f1_score(y_valid,test_value_lgb)\n",
        "    df_result.iloc[3,1]=f1_score(y_valid,test_value_ada)\n",
        "    df_result.iloc[4,1]=f1_score(y_valid,test_value_xgb)\n",
        "    df_result.iloc[5,1]=f1_score(y_valid,test_value_log)\n",
        "    df_result.iloc[6,1]=f1_score(y_valid,test_value_mnb)\n",
        "\n",
        "    df_result.index=['random_forest','svm','lgb','ada','xgb','log_reg','mn_bayes']\n",
        "    df_result.columns=['accuracy','f1_score']\n",
        "  else:\n",
        "    df_result['rf']=test_value_rf\n",
        "    df_result['svm']=test_value_svm\n",
        "    df_result['lgb']=test_value_lgb\n",
        "    df_result['ada']=test_value_ada\n",
        "    df_result['xgb']=test_value_xgb\n",
        "    df_result['log']=test_value_log\n",
        "    df_result['mnb']=test_value_mnb\n",
        "\n",
        "\n",
        "\n",
        "  return df_result\n"
      ],
      "execution_count": 68,
      "outputs": []
    },
    {
      "cell_type": "code",
      "metadata": {
        "id": "CCqOvaU2-yTm",
        "outputId": "cb9f6148-db63-4e67-d601-e0099acab8f9",
        "colab": {
          "base_uri": "https://localhost:8080/"
        }
      },
      "source": [
        "df_result=train_test(X_train,y_train,X_valid,y_valid,class_weight={0:1,1:2.05})"
      ],
      "execution_count": 55,
      "outputs": [
        {
          "output_type": "stream",
          "text": [
            "[2]\n"
          ],
          "name": "stdout"
        }
      ]
    },
    {
      "cell_type": "code",
      "metadata": {
        "id": "V8en6fqTDkJh"
      },
      "source": [
        "df_result.sort_values(by=['f1_score'],ascending=False,inplace=True)"
      ],
      "execution_count": 64,
      "outputs": []
    },
    {
      "cell_type": "code",
      "metadata": {
        "id": "T-cWfQDXCo98",
        "outputId": "38b9123b-3988-44ca-b994-fcaf107be2fe",
        "colab": {
          "base_uri": "https://localhost:8080/",
          "height": 602
        }
      },
      "source": [
        "df_result.plot(kind='bar',subplots=True,figsize=(20,10), grid=False)"
      ],
      "execution_count": 65,
      "outputs": [
        {
          "output_type": "execute_result",
          "data": {
            "text/plain": [
              "array([<matplotlib.axes._subplots.AxesSubplot object at 0x7f2dc88ee160>,\n",
              "       <matplotlib.axes._subplots.AxesSubplot object at 0x7f2dc883dd68>],\n",
              "      dtype=object)"
            ]
          },
          "metadata": {
            "tags": []
          },
          "execution_count": 65
        },
        {
          "output_type": "display_data",
          "data": {
            "image/png": "[encoded data removed]",
            "text/plain": [
              "<Figure size 1440x720 with 2 Axes>"
            ]
          },
          "metadata": {
            "tags": [],
            "needs_background": "light"
          }
        }
      ]
    },
    {
      "cell_type": "code",
      "metadata": {
        "id": "XCRccPMACz-C",
        "outputId": "2b4e2d84-2156-4d0f-d61c-8c233b8a6390",
        "colab": {
          "base_uri": "https://localhost:8080/",
          "height": 266
        }
      },
      "source": [
        "df_result"
      ],
      "execution_count": 66,
      "outputs": [
        {
          "output_type": "execute_result",
          "data": {
            "text/html": [
              "<div>\n",
              "<style scoped>\n",
              "    .dataframe tbody tr th:only-of-type {\n",
              "        vertical-align: middle;\n",
              "    }\n",
              "\n",
              "    .dataframe tbody tr th {\n",
              "        vertical-align: top;\n",
              "    }\n",
              "\n",
              "    .dataframe thead th {\n",
              "        text-align: right;\n",
              "    }\n",
              "</style>\n",
              "<table border=\"1\" class=\"dataframe\">\n",
              "  <thead>\n",
              "    <tr style=\"text-align: right;\">\n",
              "      <th></th>\n",
              "      <th>accuracy</th>\n",
              "      <th>f1_score</th>\n",
              "    </tr>\n",
              "  </thead>\n",
              "  <tbody>\n",
              "    <tr>\n",
              "      <th>lgb</th>\n",
              "      <td>0.741509</td>\n",
              "      <td>0.690745</td>\n",
              "    </tr>\n",
              "    <tr>\n",
              "      <th>ada</th>\n",
              "      <td>0.747170</td>\n",
              "      <td>0.683962</td>\n",
              "    </tr>\n",
              "    <tr>\n",
              "      <th>svm</th>\n",
              "      <td>0.716981</td>\n",
              "      <td>0.676724</td>\n",
              "    </tr>\n",
              "    <tr>\n",
              "      <th>random_forest</th>\n",
              "      <td>0.767925</td>\n",
              "      <td>0.673740</td>\n",
              "    </tr>\n",
              "    <tr>\n",
              "      <th>xgb</th>\n",
              "      <td>0.754717</td>\n",
              "      <td>0.663212</td>\n",
              "    </tr>\n",
              "    <tr>\n",
              "      <th>log_reg</th>\n",
              "      <td>0.662264</td>\n",
              "      <td>0.648330</td>\n",
              "    </tr>\n",
              "    <tr>\n",
              "      <th>mn_bayes</th>\n",
              "      <td>0.722642</td>\n",
              "      <td>0.592798</td>\n",
              "    </tr>\n",
              "  </tbody>\n",
              "</table>\n",
              "</div>"
            ],
            "text/plain": [
              "               accuracy  f1_score\n",
              "lgb            0.741509  0.690745\n",
              "ada            0.747170  0.683962\n",
              "svm            0.716981  0.676724\n",
              "random_forest  0.767925  0.673740\n",
              "xgb            0.754717  0.663212\n",
              "log_reg        0.662264  0.648330\n",
              "mn_bayes       0.722642  0.592798"
            ]
          },
          "metadata": {
            "tags": []
          },
          "execution_count": 66
        }
      ]
    },
    {
      "cell_type": "markdown",
      "metadata": {
        "id": "42byiF5BD8rs"
      },
      "source": [
        "Lgb model gives high accuracy, followed by svm and randomforest"
      ]
    },
    {
      "cell_type": "code",
      "metadata": {
        "id": "eDX_ec15JrJb",
        "outputId": "00285ccc-6920-43c5-b8d1-d3f0ec80cc97",
        "colab": {
          "base_uri": "https://localhost:8080/"
        }
      },
      "source": [
        "model_lgb=lgb.LGBMClassifier(class_weight={0:1,1:2.05},random_state=42)\n",
        "model_lgb.fit(X,y)"
      ],
      "execution_count": 78,
      "outputs": [
        {
          "output_type": "execute_result",
          "data": {
            "text/plain": [
              "LGBMClassifier(boosting_type='gbdt', class_weight={0: 1, 1: 2.05},\n",
              "               colsample_bytree=1.0, importance_type='split', learning_rate=0.1,\n",
              "               max_depth=-1, min_child_samples=20, min_child_weight=0.001,\n",
              "               min_split_gain=0.0, n_estimators=100, n_jobs=-1, num_leaves=31,\n",
              "               objective=None, random_state=42, reg_alpha=0.0, reg_lambda=0.0,\n",
              "               silent=True, subsample=1.0, subsample_for_bin=200000,\n",
              "               subsample_freq=0)"
            ]
          },
          "metadata": {
            "tags": []
          },
          "execution_count": 78
        }
      ]
    },
    {
      "cell_type": "markdown",
      "metadata": {
        "id": "3ZSAILW5J-zU"
      },
      "source": [
        "# Feature importance of top model"
      ]
    },
    {
      "cell_type": "code",
      "metadata": {
        "id": "tuINwe9XJ22t",
        "outputId": "7e04f959-ad04-469b-af31-b6c280474c68",
        "colab": {
          "base_uri": "https://localhost:8080/",
          "height": 485
        }
      },
      "source": [
        "feature_imp = pd.DataFrame(sorted(zip(model_lgb.feature_importances_,X.columns)), columns=['Value','Feature'])\n",
        "\n",
        "plt.figure(figsize=(20, 10))\n",
        "sns.barplot(x=\"Value\", y=\"Feature\", data=feature_imp.sort_values(by=\"Value\", ascending=False))"
      ],
      "execution_count": 79,
      "outputs": [
        {
          "output_type": "execute_result",
          "data": {
            "text/plain": [
              "<matplotlib.axes._subplots.AxesSubplot at 0x7f2dc8694fd0>"
            ]
          },
          "metadata": {
            "tags": []
          },
          "execution_count": 79
        },
        {
          "output_type": "display_data",
          "data": {
            "image/png": "[encoded data removed]",
            "text/plain": [
              "<Figure size 1440x720 with 1 Axes>"
            ]
          },
          "metadata": {
            "tags": [],
            "needs_background": "light"
          }
        }
      ]
    },
    {
      "cell_type": "markdown",
      "metadata": {
        "id": "fLr7A-DLKDyk"
      },
      "source": [
        "Features like Thrombocyte, MCV, Age contributes most to patient treatment classification while the feature sex contributes least."
      ]
    },
    {
      "cell_type": "code",
      "metadata": {
        "id": "echZDZuCD6io",
        "outputId": "563eee72-f8b3-4879-e15f-907ae8f4cd59",
        "colab": {
          "base_uri": "https://localhost:8080/"
        }
      },
      "source": [
        "df_result=train_test(X,y,X_test,class_weight={0:1,1:2.05},train=False)"
      ],
      "execution_count": 69,
      "outputs": [
        {
          "output_type": "stream",
          "text": [
            "[2]\n"
          ],
          "name": "stdout"
        }
      ]
    },
    {
      "cell_type": "markdown",
      "metadata": {
        "id": "4iffbFNgFqDn"
      },
      "source": [
        "# Create Blended output"
      ]
    },
    {
      "cell_type": "code",
      "metadata": {
        "id": "uJjhHMH7FWGT"
      },
      "source": [
        "df_result['prediction']=(3*df_result['lgb']+2*df_result['svm']+df_result['ada']+df_result['rf']+df_result['xgb']+df_result['mnb']+df_result['log'])/10"
      ],
      "execution_count": 71,
      "outputs": []
    },
    {
      "cell_type": "code",
      "metadata": {
        "id": "LGjOABZZFa9S"
      },
      "source": [
        "df_result['prediction']=df_result['prediction'].apply(lambda x: 0 if x< 0.4 else 1).astype('int64')"
      ],
      "execution_count": 72,
      "outputs": []
    },
    {
      "cell_type": "code",
      "metadata": {
        "id": "8BKAFgemFy7h",
        "outputId": "b8bb727b-415c-4671-c73d-83f66cc4b800",
        "colab": {
          "base_uri": "https://localhost:8080/"
        }
      },
      "source": [
        "df_result['prediction'].value_counts()"
      ],
      "execution_count": 73,
      "outputs": [
        {
          "output_type": "execute_result",
          "data": {
            "text/plain": [
              "0    570\n",
              "1    533\n",
              "Name: prediction, dtype: int64"
            ]
          },
          "metadata": {
            "tags": []
          },
          "execution_count": 73
        }
      ]
    },
    {
      "cell_type": "markdown",
      "metadata": {
        "id": "w0yvVbi7F5V8"
      },
      "source": [
        "# Submitting the results"
      ]
    },
    {
      "cell_type": "code",
      "metadata": {
        "id": "enSZK7nOF1kq"
      },
      "source": [
        "res = pd.DataFrame(df_result['prediction'].copy()) # target are nothing but the final predictions of your model on input features of your new unseen test data\n",
        "res.index = test_data.index # its important for comparison. Here \"test_new\" is your new test dataset\n",
        "res.columns = [\"prediction\"]\n"
      ],
      "execution_count": 74,
      "outputs": []
    },
    {
      "cell_type": "code",
      "metadata": {
        "id": "zg1PicFuF71m",
        "outputId": "72c9928d-3629-4099-993d-a303b40b186b",
        "colab": {
          "base_uri": "https://localhost:8080/",
          "height": 17
        }
      },
      "source": [
        "# To download the csv file locally\n",
        "from google.colab import files\n",
        "res.to_csv('submission.csv',index=False)\n",
        "files.download('submission.csv')"
      ],
      "execution_count": 75,
      "outputs": [
        {
          "output_type": "display_data",
          "data": {
            "application/javascript": [
              "\n",
              "    async function download(id, filename, size) {\n",
              "      if (!google.colab.kernel.accessAllowed) {\n",
              "        return;\n",
              "      }\n",
              "      const div = document.createElement('div');\n",
              "      const label = document.createElement('label');\n",
              "      label.textContent = `Downloading \"${filename}\": `;\n",
              "      div.appendChild(label);\n",
              "      const progress = document.createElement('progress');\n",
              "      progress.max = size;\n",
              "      div.appendChild(progress);\n",
              "      document.body.appendChild(div);\n",
              "\n",
              "      const buffers = [];\n",
              "      let downloaded = 0;\n",
              "\n",
              "      const channel = await google.colab.kernel.comms.open(id);\n",
              "      // Send a message to notify the kernel that we're ready.\n",
              "      channel.send({})\n",
              "\n",
              "      for await (const message of channel.messages) {\n",
              "        // Send a message to notify the kernel that we're ready.\n",
              "        channel.send({})\n",
              "        if (message.buffers) {\n",
              "          for (const buffer of message.buffers) {\n",
              "            buffers.push(buffer);\n",
              "            downloaded += buffer.byteLength;\n",
              "            progress.value = downloaded;\n",
              "          }\n",
              "        }\n",
              "      }\n",
              "      const blob = new Blob(buffers, {type: 'application/binary'});\n",
              "      const a = document.createElement('a');\n",
              "      a.href = window.URL.createObjectURL(blob);\n",
              "      a.download = filename;\n",
              "      div.appendChild(a);\n",
              "      a.click();\n",
              "      div.remove();\n",
              "    }\n",
              "  "
            ],
            "text/plain": [
              "<IPython.core.display.Javascript object>"
            ]
          },
          "metadata": {
            "tags": []
          }
        },
        {
          "output_type": "display_data",
          "data": {
            "application/javascript": [
              "download(\"download_d63d3309-a096-4052-9a94-02c1596d1e26\", \"submission.csv\", 2217)"
            ],
            "text/plain": [
              "<IPython.core.display.Javascript object>"
            ]
          },
          "metadata": {
            "tags": []
          }
        }
      ]
    }
  ]
}